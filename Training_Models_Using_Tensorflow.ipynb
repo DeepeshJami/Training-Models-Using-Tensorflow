{
  "nbformat": 4,
  "nbformat_minor": 0,
  "metadata": {
    "colab": {
      "name": "Training Models Using Tensorflow.ipynb",
      "provenance": []
    },
    "kernelspec": {
      "name": "python3",
      "display_name": "Python 3"
    }
  },
  "cells": [
    {
      "cell_type": "markdown",
      "metadata": {
        "id": "AHsSt3rZ5nF2",
        "colab_type": "text"
      },
      "source": [
        "**Prerequisites**: fundamental coding skills, a bit of linear algebra, especially matrix operations and perhaps understanding how images are stored in computer memory. To start with machine learning, we suggest coursera course by Andrew Ng.\n",
        "\n",
        "**Note**:\n",
        "\n",
        "Feel free to fork and adjust CONSTANTS to tweak network behaviour and explore how it changes algorithm performance and accuracy. Besides TensorFlow graph section can also be modified for learning purposes.\n",
        "\n",
        "It is highly recommended printing every variable that isn’t 100% clear for you. Also, tensorboard can be used on a local environment for visualisation and debugging."
      ]
    },
    {
      "cell_type": "markdown",
      "metadata": {
        "id": "y2xaeDWU55mi",
        "colab_type": "text"
      },
      "source": [
        "**Libraries and settings**"
      ]
    },
    {
      "cell_type": "code",
      "metadata": {
        "id": "qoRWnBONoRq-",
        "colab_type": "code",
        "colab": {}
      },
      "source": [
        "import numpy as np\n",
        "import pandas as pd\n",
        "\n",
        "%matplotlib inline\n",
        "import matplotlib.pyplot as plt\n",
        "import matplotlib.cm as cm\n",
        "\n",
        "import tensorflow as tf\n",
        "\n",
        "# settings\n",
        "LEARNING_RATE = 1e-4\n",
        "# set to 20000 on local environment to get 0.99 accuracy\n",
        "TRAINING_ITERATIONS = 2500        \n",
        "    \n",
        "DROPOUT = 0.5\n",
        "BATCH_SIZE = 50\n",
        "\n",
        "# set to 0 to train on all available data\n",
        "VALIDATION_SIZE = 2000\n",
        "\n",
        "# image number to output\n",
        "IMAGE_TO_DISPLAY = 10"
      ],
      "execution_count": 1,
      "outputs": []
    },
    {
      "cell_type": "markdown",
      "metadata": {
        "id": "AKzBPqE16JC4",
        "colab_type": "text"
      },
      "source": [
        "**Data preparation**\n",
        "\n",
        "To start, we read provided data. The train.csv file contains 42000 rows and 785 columns. Each row represents an image of a handwritten digit and a label with the value of this digit."
      ]
    },
    {
      "cell_type": "code",
      "metadata": {
        "id": "tHBqZR_YxILo",
        "colab_type": "code",
        "colab": {
          "base_uri": "https://localhost:8080/",
          "height": 168
        },
        "outputId": "36a1d3dc-c083-4c53-9343-cbc5ddf7d0a3"
      },
      "source": [
        "# read training data from CSV file \n",
        "data = pd.read_csv('train.csv')\n",
        "\n",
        "print('data({0[0]},{0[1]})'.format(data.shape))\n",
        "print (data.head())"
      ],
      "execution_count": 2,
      "outputs": [
        {
          "output_type": "stream",
          "text": [
            "data(42000,785)\n",
            "   label  pixel0  pixel1  pixel2  ...  pixel780  pixel781  pixel782  pixel783\n",
            "0      1       0       0       0  ...         0         0         0         0\n",
            "1      0       0       0       0  ...         0         0         0         0\n",
            "2      1       0       0       0  ...         0         0         0         0\n",
            "3      4       0       0       0  ...         0         0         0         0\n",
            "4      0       0       0       0  ...         0         0         0         0\n",
            "\n",
            "[5 rows x 785 columns]\n"
          ],
          "name": "stdout"
        }
      ]
    },
    {
      "cell_type": "code",
      "metadata": {
        "id": "5defrcS-0GSz",
        "colab_type": "code",
        "colab": {
          "base_uri": "https://localhost:8080/",
          "height": 34
        },
        "outputId": "04ac0875-f0a1-47ad-943d-311474c20627"
      },
      "source": [
        "images = data.iloc[:,1:].values\n",
        "images = images.astype(np.float)\n",
        "\n",
        "# convert from [0:255] => [0.0:1.0]\n",
        "images = np.multiply(images, 1.0 / 255.0)\n",
        "\n",
        "print('images({0[0]},{0[1]})'.format(images.shape))"
      ],
      "execution_count": 3,
      "outputs": [
        {
          "output_type": "stream",
          "text": [
            "images(42000,784)\n"
          ],
          "name": "stdout"
        }
      ]
    },
    {
      "cell_type": "markdown",
      "metadata": {
        "id": "thhW2ZbM6bVA",
        "colab_type": "text"
      },
      "source": [
        "\n",
        "Every image is a \"stretched\" array of pixel values."
      ]
    },
    {
      "cell_type": "code",
      "metadata": {
        "id": "ofwmkA0-0J4s",
        "colab_type": "code",
        "colab": {
          "base_uri": "https://localhost:8080/",
          "height": 67
        },
        "outputId": "eb97fc78-ba90-4eb5-8582-cac9c0c4318f"
      },
      "source": [
        "image_size = images.shape[1]\n",
        "print ('image_size => {0}'.format(image_size))\n",
        "\n",
        "# in this case all images are square\n",
        "image_width = image_height = np.ceil(np.sqrt(image_size)).astype(np.uint8)\n",
        "\n",
        "print ('image_width => {0}\\nimage_height => {1}'.format(image_width,image_height))"
      ],
      "execution_count": 4,
      "outputs": [
        {
          "output_type": "stream",
          "text": [
            "image_size => 784\n",
            "image_width => 28\n",
            "image_height => 28\n"
          ],
          "name": "stdout"
        }
      ]
    },
    {
      "cell_type": "markdown",
      "metadata": {
        "id": "Dkt4UM676hlm",
        "colab_type": "text"
      },
      "source": [
        "In this case it's 784 pixels => 28 * 28px"
      ]
    },
    {
      "cell_type": "code",
      "metadata": {
        "id": "2eEkSlbM0MYJ",
        "colab_type": "code",
        "colab": {
          "base_uri": "https://localhost:8080/",
          "height": 248
        },
        "outputId": "9d9c3e26-9d53-4180-9956-a713d0a6f586"
      },
      "source": [
        "# display image\n",
        "def display(img):\n",
        "    \n",
        "    # (784) => (28,28)\n",
        "    one_image = img.reshape(image_width,image_height)\n",
        "    \n",
        "    plt.axis('off')\n",
        "    plt.imshow(one_image, cmap=cm.binary)\n",
        "\n",
        "# output image     \n",
        "display(images[IMAGE_TO_DISPLAY])"
      ],
      "execution_count": 5,
      "outputs": [
        {
          "output_type": "display_data",
          "data": {
            "image/png": "[encoded data removed]",
            "text/plain": [
              "<Figure size 432x288 with 1 Axes>"
            ]
          },
          "metadata": {
            "tags": [],
            "needs_background": "light"
          }
        }
      ]
    },
    {
      "cell_type": "markdown",
      "metadata": {
        "id": "MoJ4HQco6fxd",
        "colab_type": "text"
      },
      "source": [
        "\n",
        "The corresponding labels are numbers between 0 and 9, describing which digit a given image is of."
      ]
    },
    {
      "cell_type": "code",
      "metadata": {
        "id": "PtENPxQO2PKd",
        "colab_type": "code",
        "colab": {}
      },
      "source": [
        "df = pd.read_csv('train.csv')\n",
        "df.to_csv('train.csv',index=False)"
      ],
      "execution_count": 16,
      "outputs": []
    },
    {
      "cell_type": "code",
      "metadata": {
        "id": "Nqx4S1Lc0PAD",
        "colab_type": "code",
        "colab": {
          "base_uri": "https://localhost:8080/",
          "height": 50
        },
        "outputId": "1797af6d-9722-442b-9258-af0cd8577407"
      },
      "source": [
        "labels_flat = data.iloc[:,0].values.ravel()\n",
        "print('labels_flat({0})'.format(len(labels_flat)))\n",
        "print ('labels_flat[{0}] => {1}'.format(IMAGE_TO_DISPLAY,labels_flat[IMAGE_TO_DISPLAY]))"
      ],
      "execution_count": 19,
      "outputs": [
        {
          "output_type": "stream",
          "text": [
            "labels_flat(42000)\n",
            "labels_flat[10] => 8\n"
          ],
          "name": "stdout"
        }
      ]
    },
    {
      "cell_type": "code",
      "metadata": {
        "id": "FGxB9tdD0R9S",
        "colab_type": "code",
        "colab": {
          "base_uri": "https://localhost:8080/",
          "height": 34
        },
        "outputId": "d54cafc0-5e7e-4ffe-c734-39dcaa8d9b14"
      },
      "source": [
        "labels_count = np.unique(labels_flat).shape[0]\n",
        "\n",
        "print('labels_count => {0}'.format(labels_count))"
      ],
      "execution_count": 20,
      "outputs": [
        {
          "output_type": "stream",
          "text": [
            "labels_count => 10\n"
          ],
          "name": "stdout"
        }
      ]
    },
    {
      "cell_type": "markdown",
      "metadata": {
        "id": "4BAY8qQr6u9l",
        "colab_type": "text"
      },
      "source": [
        "\n",
        "For most classification problems \"one-hot vectors\" are used. A one-hot vector is a vector that contains a single element equal to 1 and the rest of the elements equal to 0. In this case, the nth digit is represented as a zero vector with 1 in the nth position."
      ]
    },
    {
      "cell_type": "code",
      "metadata": {
        "id": "q_XKKZng0_Tm",
        "colab_type": "code",
        "colab": {
          "base_uri": "https://localhost:8080/",
          "height": 50
        },
        "outputId": "32147702-d246-43c7-b8de-db64ed78892d"
      },
      "source": [
        "# convert class labels from scalars to one-hot vectors\n",
        "# 0 => [1 0 0 0 0 0 0 0 0 0]\n",
        "# 1 => [0 1 0 0 0 0 0 0 0 0]\n",
        "# ...\n",
        "# 9 => [0 0 0 0 0 0 0 0 0 1]\n",
        "def dense_to_one_hot(labels_dense, num_classes):\n",
        "    num_labels = labels_dense.shape[0]\n",
        "    index_offset = np.arange(num_labels) * num_classes\n",
        "    labels_one_hot = np.zeros((num_labels, num_classes))\n",
        "    labels_one_hot.flat[index_offset + labels_dense.ravel()] = 1\n",
        "    return labels_one_hot\n",
        "\n",
        "labels = dense_to_one_hot(labels_flat, labels_count)\n",
        "labels = labels.astype(np.uint8)\n",
        "\n",
        "print('labels({0[0]},{0[1]})'.format(labels.shape))\n",
        "print ('labels[{0}] => {1}'.format(IMAGE_TO_DISPLAY,labels[IMAGE_TO_DISPLAY]))"
      ],
      "execution_count": 21,
      "outputs": [
        {
          "output_type": "stream",
          "text": [
            "labels(42000,10)\n",
            "labels[10] => [0 0 0 0 0 0 0 0 1 0]\n"
          ],
          "name": "stdout"
        }
      ]
    },
    {
      "cell_type": "code",
      "metadata": {
        "id": "AhTYbJvl2zIX",
        "colab_type": "code",
        "colab": {
          "base_uri": "https://localhost:8080/",
          "height": 50
        },
        "outputId": "cac2df6e-7023-47e0-eb39-4b90e0393b7d"
      },
      "source": [
        "# split data into training & validation\n",
        "validation_images = images[:VALIDATION_SIZE]\n",
        "validation_labels = labels[:VALIDATION_SIZE]\n",
        "\n",
        "train_images = images[VALIDATION_SIZE:]\n",
        "train_labels = labels[VALIDATION_SIZE:]\n",
        "\n",
        "\n",
        "print('train_images({0[0]},{0[1]})'.format(train_images.shape))\n",
        "print('validation_images({0[0]},{0[1]})'.format(validation_images.shape))"
      ],
      "execution_count": 22,
      "outputs": [
        {
          "output_type": "stream",
          "text": [
            "train_images(40000,784)\n",
            "validation_images(2000,784)\n"
          ],
          "name": "stdout"
        }
      ]
    },
    {
      "cell_type": "markdown",
      "metadata": {
        "id": "wbnikZ2t64Hh",
        "colab_type": "text"
      },
      "source": [
        "\n",
        "Data is ready. The neural network structure is next.\n",
        "\n",
        "**TensorFlow graph**\n",
        "\n",
        "TensorFlow does its heavy lifting outside Python. Therefore, instead of running every single operation independently, TensorFlow allows users to build a whole graph of interacting operations and then runs the workflow in a separate process at once.\n",
        "\n",
        "**Helper functions**\n",
        "\n",
        "For this NN model, a lot of weights and biases are created. Generally, weights should be initialised with a small amount of noise for symmetry breaking, and to prevent 0 gradients.\n",
        "\n",
        "Since we are using ReLU neurones (ones that contain rectifier function f(x)=max(0,x)), it is also good practice to initialise them with a slightly positive initial bias to avoid \"dead neurones\"."
      ]
    },
    {
      "cell_type": "code",
      "metadata": {
        "id": "nyijqWRs22VL",
        "colab_type": "code",
        "colab": {}
      },
      "source": [
        "# weight initialization\n",
        "def weight_variable(shape):\n",
        "    initial = tf.truncated_normal(shape, stddev=0.1)\n",
        "    return tf.Variable(initial)\n",
        "\n",
        "def bias_variable(shape):\n",
        "    initial = tf.constant(0.1, shape=shape)\n",
        "    return tf.Variable(initial)"
      ],
      "execution_count": 24,
      "outputs": []
    },
    {
      "cell_type": "markdown",
      "metadata": {
        "id": "T_VQUErk7BfQ",
        "colab_type": "text"
      },
      "source": [
        "\n",
        "For this problem we use zero padded convolutions so that the output is the same size as the input. Stride/step in this case is equal to 1.\n",
        "\n",
        "In general, convolution layer is used to get the features of the data. In the case of digit recognition - a shape of each digit. It uses learnable kernels/filters each of which corresponds to one particular shape pattern. The number of the filter can differ for other problems."
      ]
    },
    {
      "cell_type": "code",
      "metadata": {
        "id": "BhLr6wi824_x",
        "colab_type": "code",
        "colab": {}
      },
      "source": [
        "# convolution\n",
        "def conv2d(x, W):\n",
        "    return tf.nn.conv2d(x, W, strides=[1, 1, 1, 1], padding='SAME')"
      ],
      "execution_count": 25,
      "outputs": []
    },
    {
      "cell_type": "markdown",
      "metadata": {
        "id": "sfj-gkuI7Diy",
        "colab_type": "text"
      },
      "source": [
        "\n",
        "Pooling is plain max pooling over 2x2 blocks.\n",
        "\n",
        "Pooling is used for downsampling of the data. 2x2 max-pooling splits the image into square 2-pixel blocks and only keeps maximum value for each of those blocks."
      ]
    },
    {
      "cell_type": "code",
      "metadata": {
        "id": "2NJz_gm53A5z",
        "colab_type": "code",
        "colab": {}
      },
      "source": [
        "# pooling\n",
        "# [[0,3],\n",
        "#  [4,2]] => 4\n",
        "\n",
        "# [[0,1],\n",
        "#  [1,1]] => 1\n",
        "\n",
        "def max_pool_2x2(x):\n",
        "    return tf.nn.max_pool(x, ksize=[1, 2, 2, 1], strides=[1, 2, 2, 1], padding='SAME')"
      ],
      "execution_count": 26,
      "outputs": []
    },
    {
      "cell_type": "markdown",
      "metadata": {
        "id": "PKtvOYz87KIg",
        "colab_type": "text"
      },
      "source": [
        "\n",
        "We'll get back to convolutions and pooling in more detail below.\n",
        "\n",
        "The good thing about neural networks that any NN can be used as a layer in a large multilayer NN meaning that output of one can be used as input for another. This sequential approach can create very sophisticated NN with multiple layers. They are also called Deep Neural Networks.\n",
        "\n",
        "In this case, we use two convolution layers with pooling in between them, then densely connected layer followed by dropout and lastly readout layer."
      ]
    },
    {
      "cell_type": "code",
      "metadata": {
        "id": "u-n2sDEU3ODV",
        "colab_type": "code",
        "colab": {
          "base_uri": "https://localhost:8080/",
          "height": 87
        },
        "outputId": "1075897a-0d25-4457-e2e6-3cf8914188bd"
      },
      "source": [
        "import tensorflow.compat.v1 as tf\n",
        "tf.disable_v2_behavior()"
      ],
      "execution_count": 28,
      "outputs": [
        {
          "output_type": "stream",
          "text": [
            "WARNING:tensorflow:From /usr/local/lib/python3.6/dist-packages/tensorflow/python/compat/v2_compat.py:96: disable_resource_variables (from tensorflow.python.ops.variable_scope) is deprecated and will be removed in a future version.\n",
            "Instructions for updating:\n",
            "non-resource variables are not supported in the long term\n"
          ],
          "name": "stdout"
        }
      ]
    },
    {
      "cell_type": "code",
      "metadata": {
        "id": "OVEQmQUo3DbH",
        "colab_type": "code",
        "colab": {}
      },
      "source": [
        "# input & output of NN\n",
        "\n",
        "# images\n",
        "x = tf.placeholder('float', shape=[None, image_size])\n",
        "# labels\n",
        "y_ = tf.placeholder('float', shape=[None, labels_count])"
      ],
      "execution_count": 29,
      "outputs": []
    },
    {
      "cell_type": "markdown",
      "metadata": {
        "id": "r6sNtLsn7Ncr",
        "colab_type": "text"
      },
      "source": [
        "\n",
        "The first layer is a convolution, followed by max pooling. The convolution computes 32 features for each 5x5 patch. Its weight tensor has a shape of [5, 5, 1, 32]. The first two dimensions are the patch size, the next is the number of input channels (1 means that images are grayscale), and the last is the number of output channels. There is also a bias vector with a component for each output channel.\n",
        "\n",
        "To apply the layer, we reshape the input data to a 4d tensor, with the first dimension corresponding to the number of images, second and third - to image width and height, and the final dimension - to the number of colour channels.\n",
        "\n",
        "After the convolution, pooling reduces the size of the output from 28x28 to 14x14."
      ]
    },
    {
      "cell_type": "code",
      "metadata": {
        "id": "g9Nt69wu3Fz9",
        "colab_type": "code",
        "colab": {}
      },
      "source": [
        "# first convolutional layer\n",
        "W_conv1 = weight_variable([5, 5, 1, 32])\n",
        "b_conv1 = bias_variable([32])\n",
        "\n",
        "# (40000,784) => (40000,28,28,1)\n",
        "image = tf.reshape(x, [-1,image_width , image_height,1])\n",
        "#print (image.get_shape()) # =>(40000,28,28,1)\n",
        "\n",
        "\n",
        "h_conv1 = tf.nn.relu(conv2d(image, W_conv1) + b_conv1)\n",
        "#print (h_conv1.get_shape()) # => (40000, 28, 28, 32)\n",
        "h_pool1 = max_pool_2x2(h_conv1)\n",
        "#print (h_pool1.get_shape()) # => (40000, 14, 14, 32)\n",
        "\n",
        "\n",
        "# Prepare for visualization\n",
        "# display 32 fetures in 4 by 8 grid\n",
        "layer1 = tf.reshape(h_conv1, (-1, image_height, image_width, 4 ,8))  \n",
        "\n",
        "# reorder so the channels are in the first dimension, x and y follow.\n",
        "layer1 = tf.transpose(layer1, (0, 3, 1, 4,2))\n",
        "\n",
        "layer1 = tf.reshape(layer1, (-1, image_height*4, image_width*8))"
      ],
      "execution_count": 30,
      "outputs": []
    },
    {
      "cell_type": "markdown",
      "metadata": {
        "id": "yGqWO5av7SO3",
        "colab_type": "text"
      },
      "source": [
        "\n",
        "The second layer has 64 features for each 5x5 patch. Its weight tensor has a shape of [5, 5, 32, 64]. The first two dimensions are the patch size, the next is the number of input channels (32 channels correspond to 32 featured that we got from previous convolutional layer), and the last is the number of output channels. There is also a bias vector with a component for each output channel.\n",
        "\n",
        "Because the image is down-sampled by pooling to 14x14 size second convolutional layer picks up more general characteristics of the images. Filters cover more space of the picture. Therefore, it is adjusted for more generic features while the first layer finds smaller details."
      ]
    },
    {
      "cell_type": "code",
      "metadata": {
        "id": "NvD01GbN3Tcf",
        "colab_type": "code",
        "colab": {}
      },
      "source": [
        "# second convolutional layer\n",
        "W_conv2 = weight_variable([5, 5, 32, 64])\n",
        "b_conv2 = bias_variable([64])\n",
        "\n",
        "h_conv2 = tf.nn.relu(conv2d(h_pool1, W_conv2) + b_conv2)\n",
        "#print (h_conv2.get_shape()) # => (40000, 14,14, 64)\n",
        "h_pool2 = max_pool_2x2(h_conv2)\n",
        "#print (h_pool2.get_shape()) # => (40000, 7, 7, 64)\n",
        "\n",
        "# Prepare for visualization\n",
        "# display 64 fetures in 4 by 16 grid\n",
        "layer2 = tf.reshape(h_conv2, (-1, 14, 14, 4 ,16))  \n",
        "\n",
        "# reorder so the channels are in the first dimension, x and y follow.\n",
        "layer2 = tf.transpose(layer2, (0, 3, 1, 4,2))\n",
        "\n",
        "layer2 = tf.reshape(layer2, (-1, 14*4, 14*16)) "
      ],
      "execution_count": 31,
      "outputs": []
    },
    {
      "cell_type": "markdown",
      "metadata": {
        "id": "q2JppVSd7Xzj",
        "colab_type": "text"
      },
      "source": [
        "\n",
        "Now that the image size is reduced to 7x7, we add a fully-connected layer with 1024 neurones to allow processing on the entire image (each of the neurons of the fully connected layer is connected to all the activations/outpus of the previous layer)"
      ]
    },
    {
      "cell_type": "code",
      "metadata": {
        "id": "RnAz0-cc3Wcq",
        "colab_type": "code",
        "colab": {}
      },
      "source": [
        "# densely connected layer\n",
        "W_fc1 = weight_variable([7 * 7 * 64, 1024])\n",
        "b_fc1 = bias_variable([1024])\n",
        "\n",
        "# (40000, 7, 7, 64) => (40000, 3136)\n",
        "h_pool2_flat = tf.reshape(h_pool2, [-1, 7*7*64])\n",
        "\n",
        "h_fc1 = tf.nn.relu(tf.matmul(h_pool2_flat, W_fc1) + b_fc1)\n",
        "#print (h_fc1.get_shape()) # => (40000, 1024)"
      ],
      "execution_count": 32,
      "outputs": []
    },
    {
      "cell_type": "markdown",
      "metadata": {
        "id": "WxTFRB6m7bGn",
        "colab_type": "text"
      },
      "source": [
        "To prevent overfitting, we apply dropout before the readout layer.\n",
        "\n",
        "Dropout removes some nodes from the network at each training stage. Each of the nodes is either kept in the network with probability keep_prob or dropped with probability 1 - keep_prob. After the training stage is over the nodes are returned to the NN with their original weights."
      ]
    },
    {
      "cell_type": "code",
      "metadata": {
        "id": "ksKkw2YX3ZX0",
        "colab_type": "code",
        "colab": {
          "base_uri": "https://localhost:8080/",
          "height": 87
        },
        "outputId": "60779f3f-6f69-4f28-800c-07521826e486"
      },
      "source": [
        "# dropout\n",
        "keep_prob = tf.placeholder('float')\n",
        "h_fc1_drop = tf.nn.dropout(h_fc1, keep_prob)"
      ],
      "execution_count": 33,
      "outputs": [
        {
          "output_type": "stream",
          "text": [
            "WARNING:tensorflow:From /usr/local/lib/python3.6/dist-packages/tensorflow/python/util/dispatch.py:201: calling dropout (from tensorflow.python.ops.nn_ops) with keep_prob is deprecated and will be removed in a future version.\n",
            "Instructions for updating:\n",
            "Please use `rate` instead of `keep_prob`. Rate should be set to `rate = 1 - keep_prob`.\n"
          ],
          "name": "stdout"
        }
      ]
    },
    {
      "cell_type": "code",
      "metadata": {
        "id": "wZ3CrtxL3bfM",
        "colab_type": "code",
        "colab": {}
      },
      "source": [
        "# readout layer for deep net\n",
        "W_fc2 = weight_variable([1024, labels_count])\n",
        "b_fc2 = bias_variable([labels_count])\n",
        "\n",
        "y = tf.nn.softmax(tf.matmul(h_fc1_drop, W_fc2) + b_fc2)\n",
        "\n",
        "#print (y.get_shape()) # => (40000, 10)"
      ],
      "execution_count": 34,
      "outputs": []
    },
    {
      "cell_type": "code",
      "metadata": {
        "id": "P7AxFtC63dyg",
        "colab_type": "code",
        "colab": {}
      },
      "source": [
        "\n",
        "# cost function\n",
        "cross_entropy = -tf.reduce_sum(y_*tf.log(y))\n",
        "\n",
        "\n",
        "# optimisation function\n",
        "train_step = tf.train.AdamOptimizer(LEARNING_RATE).minimize(cross_entropy)\n",
        "\n",
        "# evaluation\n",
        "correct_prediction = tf.equal(tf.argmax(y,1), tf.argmax(y_,1))\n",
        "\n",
        "accuracy = tf.reduce_mean(tf.cast(correct_prediction, 'float'))"
      ],
      "execution_count": 35,
      "outputs": []
    },
    {
      "cell_type": "code",
      "metadata": {
        "id": "YqhvUwWD3gQD",
        "colab_type": "code",
        "colab": {}
      },
      "source": [
        "# prediction function\n",
        "#[0.1, 0.9, 0.2, 0.1, 0.1 0.3, 0.5, 0.1, 0.2, 0.3] => 1\n",
        "predict = tf.argmax(y,1)"
      ],
      "execution_count": 36,
      "outputs": []
    },
    {
      "cell_type": "markdown",
      "metadata": {
        "id": "GNkE08qb7ftS",
        "colab_type": "text"
      },
      "source": [
        "\n",
        "Finally neural network structure is defined and TensorFlow graph is ready for training.\n",
        "\n",
        "**Train, validate and predict**\n",
        "\n",
        "Helper functions\n",
        "Ideally, we should use all data for every step of the training, but that's expensive. So, instead, we use small \"batches\" of random data.\n",
        "\n",
        "This method is called stochastic training. It is cheaper, faster and gives much of the same result."
      ]
    },
    {
      "cell_type": "code",
      "metadata": {
        "id": "e7hpy9jF3i6U",
        "colab_type": "code",
        "colab": {}
      },
      "source": [
        "epochs_completed = 0\n",
        "index_in_epoch = 0\n",
        "num_examples = train_images.shape[0]\n",
        "\n",
        "# serve data by batches\n",
        "def next_batch(batch_size):\n",
        "    \n",
        "    global train_images\n",
        "    global train_labels\n",
        "    global index_in_epoch\n",
        "    global epochs_completed\n",
        "    \n",
        "    start = index_in_epoch\n",
        "    index_in_epoch += batch_size\n",
        "    \n",
        "    # when all trainig data have been already used, it is reorder randomly    \n",
        "    if index_in_epoch > num_examples:\n",
        "        # finished epoch\n",
        "        epochs_completed += 1\n",
        "        # shuffle the data\n",
        "        perm = np.arange(num_examples)\n",
        "        np.random.shuffle(perm)\n",
        "        train_images = train_images[perm]\n",
        "        train_labels = train_labels[perm]\n",
        "        # start next epoch\n",
        "        start = 0\n",
        "        index_in_epoch = batch_size\n",
        "        assert batch_size <= num_examples\n",
        "    end = index_in_epoch\n",
        "    return train_images[start:end], train_labels[start:end]"
      ],
      "execution_count": 37,
      "outputs": []
    },
    {
      "cell_type": "code",
      "metadata": {
        "id": "jS8VByn13l2e",
        "colab_type": "code",
        "colab": {
          "base_uri": "https://localhost:8080/",
          "height": 87
        },
        "outputId": "51418576-c60a-4a4f-d42f-9b170acc576c"
      },
      "source": [
        "# start TensorFlow session\n",
        "init = tf.initialize_all_variables()\n",
        "sess = tf.InteractiveSession()\n",
        "\n",
        "sess.run(init)"
      ],
      "execution_count": 38,
      "outputs": [
        {
          "output_type": "stream",
          "text": [
            "WARNING:tensorflow:From /usr/local/lib/python3.6/dist-packages/tensorflow/python/util/tf_should_use.py:247: initialize_all_variables (from tensorflow.python.ops.variables) is deprecated and will be removed after 2017-03-02.\n",
            "Instructions for updating:\n",
            "Use `tf.global_variables_initializer` instead.\n"
          ],
          "name": "stdout"
        }
      ]
    },
    {
      "cell_type": "markdown",
      "metadata": {
        "id": "SV27NuSK7nit",
        "colab_type": "text"
      },
      "source": [
        "\n",
        "Each step of the loop, we get a \"batch\" of data points from the training set and feed it to the graph to replace the placeholders. In this case, it's: x, y and dropout.\n",
        "\n",
        "Also, once in a while, we check training accuracy on an upcoming \"batch\".\n",
        "\n",
        "On the local environment, we recommend saving training progress, so it can be recovered for further training, debugging or evaluation."
      ]
    },
    {
      "cell_type": "code",
      "metadata": {
        "id": "H6Pb3TFF3pV1",
        "colab_type": "code",
        "colab": {
          "base_uri": "https://localhost:8080/",
          "height": 538
        },
        "outputId": "dcdad129-3f84-418d-8a2c-a3797b49b2bb"
      },
      "source": [
        "# visualisation variables\n",
        "train_accuracies = []\n",
        "validation_accuracies = []\n",
        "x_range = []\n",
        "\n",
        "display_step=1\n",
        "\n",
        "for i in range(TRAINING_ITERATIONS):\n",
        "\n",
        "    #get new batch\n",
        "    batch_xs, batch_ys = next_batch(BATCH_SIZE)        \n",
        "\n",
        "    # check progress on every 1st,2nd,...,10th,20th,...,100th... step\n",
        "    if i%display_step == 0 or (i+1) == TRAINING_ITERATIONS:\n",
        "        \n",
        "        train_accuracy = accuracy.eval(feed_dict={x:batch_xs, \n",
        "                                                  y_: batch_ys, \n",
        "                                                  keep_prob: 1.0})       \n",
        "        if(VALIDATION_SIZE):\n",
        "            validation_accuracy = accuracy.eval(feed_dict={ x: validation_images[0:BATCH_SIZE], \n",
        "                                                            y_: validation_labels[0:BATCH_SIZE], \n",
        "                                                            keep_prob: 1.0})                                  \n",
        "            print('training_accuracy / validation_accuracy => %.2f / %.2f for step %d'%(train_accuracy, validation_accuracy, i))\n",
        "            \n",
        "            validation_accuracies.append(validation_accuracy)\n",
        "            \n",
        "        else:\n",
        "             print('training_accuracy => %.4f for step %d'%(train_accuracy, i))\n",
        "        train_accuracies.append(train_accuracy)\n",
        "        x_range.append(i)\n",
        "        \n",
        "        # increase display_step\n",
        "        if i%(display_step*10) == 0 and i:\n",
        "            display_step *= 10\n",
        "    # train on batch\n",
        "    sess.run(train_step, feed_dict={x: batch_xs, y_: batch_ys, keep_prob: DROPOUT})"
      ],
      "execution_count": 39,
      "outputs": [
        {
          "output_type": "stream",
          "text": [
            "training_accuracy / validation_accuracy => 0.04 / 0.02 for step 0\n",
            "training_accuracy / validation_accuracy => 0.08 / 0.02 for step 1\n",
            "training_accuracy / validation_accuracy => 0.10 / 0.02 for step 2\n",
            "training_accuracy / validation_accuracy => 0.14 / 0.14 for step 3\n",
            "training_accuracy / validation_accuracy => 0.10 / 0.14 for step 4\n",
            "training_accuracy / validation_accuracy => 0.18 / 0.12 for step 5\n",
            "training_accuracy / validation_accuracy => 0.12 / 0.10 for step 6\n",
            "training_accuracy / validation_accuracy => 0.14 / 0.14 for step 7\n",
            "training_accuracy / validation_accuracy => 0.20 / 0.12 for step 8\n",
            "training_accuracy / validation_accuracy => 0.20 / 0.18 for step 9\n",
            "training_accuracy / validation_accuracy => 0.30 / 0.20 for step 10\n",
            "training_accuracy / validation_accuracy => 0.36 / 0.46 for step 20\n",
            "training_accuracy / validation_accuracy => 0.68 / 0.54 for step 30\n",
            "training_accuracy / validation_accuracy => 0.68 / 0.66 for step 40\n",
            "training_accuracy / validation_accuracy => 0.74 / 0.70 for step 50\n",
            "training_accuracy / validation_accuracy => 0.88 / 0.80 for step 60\n",
            "training_accuracy / validation_accuracy => 0.82 / 0.88 for step 70\n",
            "training_accuracy / validation_accuracy => 0.92 / 0.90 for step 80\n",
            "training_accuracy / validation_accuracy => 0.80 / 0.90 for step 90\n",
            "training_accuracy / validation_accuracy => 0.86 / 0.92 for step 100\n",
            "training_accuracy / validation_accuracy => 0.96 / 0.92 for step 200\n",
            "training_accuracy / validation_accuracy => 0.94 / 0.92 for step 300\n",
            "training_accuracy / validation_accuracy => 0.90 / 0.90 for step 400\n",
            "training_accuracy / validation_accuracy => 0.96 / 0.92 for step 500\n",
            "training_accuracy / validation_accuracy => 0.94 / 0.92 for step 600\n",
            "training_accuracy / validation_accuracy => 0.88 / 0.92 for step 700\n",
            "training_accuracy / validation_accuracy => 0.92 / 0.94 for step 800\n",
            "training_accuracy / validation_accuracy => 0.96 / 0.92 for step 900\n",
            "training_accuracy / validation_accuracy => 0.96 / 0.92 for step 1000\n",
            "training_accuracy / validation_accuracy => 0.96 / 0.96 for step 2000\n",
            "training_accuracy / validation_accuracy => 0.98 / 1.00 for step 2499\n"
          ],
          "name": "stdout"
        }
      ]
    },
    {
      "cell_type": "code",
      "metadata": {
        "id": "Balaheb43uE-",
        "colab_type": "code",
        "colab": {
          "base_uri": "https://localhost:8080/",
          "height": 300
        },
        "outputId": "11f72ccd-398b-4f91-96ab-111c087519f6"
      },
      "source": [
        "# check final accuracy on validation set  \n",
        "if(VALIDATION_SIZE):\n",
        "    validation_accuracy = accuracy.eval(feed_dict={x: validation_images, \n",
        "                                                   y_: validation_labels, \n",
        "                                                   keep_prob: 1.0})\n",
        "    print('validation_accuracy => %.4f'%validation_accuracy)\n",
        "    plt.plot(x_range, train_accuracies,'-b', label='Training')\n",
        "    plt.plot(x_range, validation_accuracies,'-g', label='Validation')\n",
        "    plt.legend(loc='lower right', frameon=False)\n",
        "    plt.ylim(ymax = 1.1, ymin = 0.7)\n",
        "    plt.ylabel('accuracy')\n",
        "    plt.xlabel('step')\n",
        "    plt.show()"
      ],
      "execution_count": 40,
      "outputs": [
        {
          "output_type": "stream",
          "text": [
            "validation_accuracy => 0.9780\n"
          ],
          "name": "stdout"
        },
        {
          "output_type": "display_data",
          "data": {
            "image/png": "[encoded data removed]",
            "text/plain": [
              "<Figure size 432x288 with 1 Axes>"
            ]
          },
          "metadata": {
            "tags": [],
            "needs_background": "light"
          }
        }
      ]
    },
    {
      "cell_type": "markdown",
      "metadata": {
        "id": "yo1YegFH7sn-",
        "colab_type": "text"
      },
      "source": [
        "\n",
        "When, we're happy with the outcome, we read test data from test.csv and predict labels for provided images.\n",
        "\n",
        "Test data contains only images and labels are missing. Otherwise, the structure is similar to training data.\n",
        "\n",
        "Predicted labels are stored into CSV file for future submission."
      ]
    },
    {
      "cell_type": "code",
      "metadata": {
        "id": "4rEI9sck5MLc",
        "colab_type": "code",
        "colab": {
          "base_uri": "https://localhost:8080/",
          "height": 298
        },
        "outputId": "df37ce29-b53c-4111-c216-00960b12f724"
      },
      "source": [
        "# read test data from CSV file \n",
        "test_images = pd.read_csv('test.csv').values\n",
        "test_images = test_images.astype(np.float)\n",
        "\n",
        "# convert from [0:255] => [0.0:1.0]\n",
        "test_images = np.multiply(test_images, 1.0 / 255.0)\n",
        "\n",
        "print('test_images({0[0]},{0[1]})'.format(test_images.shape))\n",
        "\n",
        "\n",
        "# predict test set\n",
        "#predicted_lables = predict.eval(feed_dict={x: test_images, keep_prob: 1.0})\n",
        "\n",
        "# using batches is more resource efficient\n",
        "predicted_lables = np.zeros(test_images.shape[0])\n",
        "for i in range(0,test_images.shape[0]//BATCH_SIZE):\n",
        "    predicted_lables[i*BATCH_SIZE : (i+1)*BATCH_SIZE] = predict.eval(feed_dict={x: test_images[i*BATCH_SIZE : (i+1)*BATCH_SIZE], \n",
        "                                                                                keep_prob: 1.0})\n",
        "\n",
        "\n",
        "print('predicted_lables({0})'.format(len(predicted_lables)))\n",
        "\n",
        "# output test image and prediction\n",
        "display(test_images[IMAGE_TO_DISPLAY])\n",
        "print ('predicted_lables[{0}] => {1}'.format(IMAGE_TO_DISPLAY,predicted_lables[IMAGE_TO_DISPLAY]))\n",
        "\n",
        "# save results\n",
        "np.savetxt('submission_softmax.csv', \n",
        "           np.c_[range(1,len(test_images)+1),predicted_lables], \n",
        "           delimiter=',', \n",
        "           header = 'ImageId,Label', \n",
        "           comments = '', \n",
        "           fmt='%d')"
      ],
      "execution_count": 42,
      "outputs": [
        {
          "output_type": "stream",
          "text": [
            "test_images(28000,784)\n",
            "predicted_lables(28000)\n",
            "predicted_lables[10] => 5.0\n"
          ],
          "name": "stdout"
        },
        {
          "output_type": "display_data",
          "data": {
            "image/png": "[encoded data removed]",
            "text/plain": [
              "<Figure size 432x288 with 1 Axes>"
            ]
          },
          "metadata": {
            "tags": [],
            "needs_background": "light"
          }
        }
      ]
    },
    {
      "cell_type": "markdown",
      "metadata": {
        "id": "tsXyPT0E7wm-",
        "colab_type": "text"
      },
      "source": [
        "\n",
        "**Appendix**\n",
        "\n",
        "As it was mentioned before, it is good to output some variables for a better understanding of the process.\n",
        "\n",
        "Here we pull an output of the first convolution layer from TensorFlow graph. 32 features are transformed into an image grid, and it's quite interesting to see how filters picked by NN outline characteristics of different digits."
      ]
    },
    {
      "cell_type": "code",
      "metadata": {
        "id": "jYXLMS8v5QJb",
        "colab_type": "code",
        "colab": {
          "base_uri": "https://localhost:8080/",
          "height": 215
        },
        "outputId": "32425f7d-8e2a-4833-8ba7-b26ef9f2a04b"
      },
      "source": [
        "layer1_grid = layer1.eval(feed_dict={x: test_images[IMAGE_TO_DISPLAY:IMAGE_TO_DISPLAY+1], keep_prob: 1.0})\n",
        "plt.axis('off')\n",
        "plt.imshow(layer1_grid[0], cmap=cm.seismic )"
      ],
      "execution_count": 43,
      "outputs": [
        {
          "output_type": "execute_result",
          "data": {
            "text/plain": [
              "<matplotlib.image.AxesImage at 0x7f4ef7fdf6a0>"
            ]
          },
          "metadata": {
            "tags": []
          },
          "execution_count": 43
        },
        {
          "output_type": "display_data",
          "data": {
            "image/png": "[encoded data removed]",
            "text/plain": [
              "<Figure size 432x288 with 1 Axes>"
            ]
          },
          "metadata": {
            "tags": [],
            "needs_background": "light"
          }
        }
      ]
    },
    {
      "cell_type": "code",
      "metadata": {
        "id": "eQDfHuTN5cAl",
        "colab_type": "code",
        "colab": {}
      },
      "source": [
        "sess.close()"
      ],
      "execution_count": 44,
      "outputs": []
    },
    {
      "cell_type": "code",
      "metadata": {
        "id": "hvGdnLuH5fLA",
        "colab_type": "code",
        "colab": {}
      },
      "source": [
        ""
      ],
      "execution_count": null,
      "outputs": []
    }
  ]
}